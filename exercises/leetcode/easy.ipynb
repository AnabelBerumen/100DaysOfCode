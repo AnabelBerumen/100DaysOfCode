{
  "nbformat": 4,
  "nbformat_minor": 0,
  "metadata": {
    "colab": {
      "provenance": [],
      "authorship_tag": "ABX9TyNsJoUaHL7tteYSrXQtvDh0",
      "include_colab_link": true
    },
    "kernelspec": {
      "name": "python3",
      "display_name": "Python 3"
    },
    "language_info": {
      "name": "python"
    }
  },
  "cells": [
    {
      "cell_type": "markdown",
      "metadata": {
        "id": "view-in-github",
        "colab_type": "text"
      },
      "source": [
        "<a href=\"https://colab.research.google.com/github/AnabelBerumen/100DaysOfCode/blob/main/exercises/leetcode/easy.ipynb\" target=\"_parent\"><img src=\"https://colab.research.google.com/assets/colab-badge.svg\" alt=\"Open In Colab\"/></a>"
      ]
    },
    {
      "cell_type": "markdown",
      "source": [
        "## 1. Two Sum"
      ],
      "metadata": {
        "id": "dgCSMtfJ0yZ9"
      }
    },
    {
      "cell_type": "code",
      "source": [
        "def twoSum(nums, target):\n",
        "\n",
        "  prevMap = {}\n",
        "\n",
        "  for i, n in enumerate(nums):\n",
        "    diff = target - n\n",
        "    if diff in prevMap:\n",
        "      return [prevMap[diff], i]\n",
        "    prevMap[n] = i\n",
        "  return\n",
        "\n",
        "nums = [2, 7, 11, 15]\n",
        "target = 9\n",
        "\n",
        "print(twoSum(nums, target))"
      ],
      "metadata": {
        "colab": {
          "base_uri": "https://localhost:8080/"
        },
        "id": "cmflvuqe0y1r",
        "outputId": "76358212-0957-46be-c87e-d11208f02380"
      },
      "execution_count": 2,
      "outputs": [
        {
          "output_type": "stream",
          "name": "stdout",
          "text": [
            "[0, 1]\n"
          ]
        }
      ]
    },
    {
      "cell_type": "markdown",
      "source": [
        "## 53. Maximum Subarray"
      ],
      "metadata": {
        "id": "0t3WR8MYng5k"
      }
    },
    {
      "cell_type": "code",
      "source": [
        "def maxSubArray(nums):\n",
        "  maxSub = nums[0]\n",
        "  curSum = 0\n",
        "\n",
        "  for n in nums:\n",
        "    if curSum < 0:\n",
        "      curSum = 0\n",
        "    curSum += n\n",
        "    maxSub = max(maxSub, curSum)\n",
        "\n",
        "  return maxSub\n",
        "\n",
        "nums = [-2, 1, -3, 4, -1, 2, 1, -5, 4]\n",
        "print(maxSubArray(nums))"
      ],
      "metadata": {
        "colab": {
          "base_uri": "https://localhost:8080/"
        },
        "id": "rMMZ5w7Snl4j",
        "outputId": "1cca6651-5975-44cd-9f26-47c02703c383"
      },
      "execution_count": 3,
      "outputs": [
        {
          "output_type": "stream",
          "name": "stdout",
          "text": [
            "6\n"
          ]
        }
      ]
    },
    {
      "cell_type": "markdown",
      "source": [
        "### 242. Valid Anagram"
      ],
      "metadata": {
        "id": "hKJCaZ5sb0qs"
      }
    },
    {
      "cell_type": "code",
      "execution_count": 35,
      "metadata": {
        "colab": {
          "base_uri": "https://localhost:8080/"
        },
        "id": "qqHs9-SBbaVV",
        "outputId": "395153b3-b685-4303-ff5c-3fa0311da6dd"
      },
      "outputs": [
        {
          "output_type": "stream",
          "name": "stdout",
          "text": [
            "True\n",
            "False\n"
          ]
        }
      ],
      "source": [
        "def isAnagram(s, t):\n",
        "  if len(s) != len(t):\n",
        "    return False\n",
        "  countS, countT = {}, {}\n",
        "\n",
        "  for i in range(len(s)):\n",
        "    countS[s[i]] = 1 + countS.get(s[i], 0)\n",
        "    countT[t[i]] = 1 + countT.get(t[i], 0)\n",
        "\n",
        "  for c in countS:\n",
        "    if countS[c] != countT.get(c, 0):\n",
        "\n",
        "      return False\n",
        "  return True\n",
        "\n",
        "\n",
        "print(isAnagram('anagram', 'nagaram'))\n",
        "print(isAnagram('cat', 'rat'))"
      ]
    },
    {
      "cell_type": "code",
      "source": [
        "from collections import Counter\n",
        "\n",
        "def isAnagram(s, t):\n",
        "  return Counter(s) == Counter(t)\n",
        "\n",
        "\n",
        "print(isAnagram('anagram', 'nagaram'))\n",
        "print(isAnagram('cat', 'rat'))"
      ],
      "metadata": {
        "colab": {
          "base_uri": "https://localhost:8080/"
        },
        "id": "Oib6xdiJhiey",
        "outputId": "b508e637-2109-4915-8d6d-728f16928dec"
      },
      "execution_count": 5,
      "outputs": [
        {
          "output_type": "stream",
          "name": "stdout",
          "text": [
            "True\n",
            "False\n"
          ]
        }
      ]
    },
    {
      "cell_type": "code",
      "source": [
        "def isAnagram(s, t):\n",
        "  return sorted(s) == sorted(t)\n",
        "\n",
        "print(isAnagram('anagram', 'nagaram'))\n",
        "print(isAnagram('cat', 'rat'))"
      ],
      "metadata": {
        "colab": {
          "base_uri": "https://localhost:8080/"
        },
        "id": "S-_HwgQCth04",
        "outputId": "724ad083-e52e-4dd3-c805-55ea263f430b"
      },
      "execution_count": 9,
      "outputs": [
        {
          "output_type": "stream",
          "name": "stdout",
          "text": [
            "True\n",
            "False\n"
          ]
        }
      ]
    },
    {
      "cell_type": "code",
      "source": [],
      "metadata": {
        "id": "Y6puhOHjiW26"
      },
      "execution_count": null,
      "outputs": []
    }
  ]
}