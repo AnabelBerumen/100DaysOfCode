{
  "nbformat": 4,
  "nbformat_minor": 0,
  "metadata": {
    "colab": {
      "provenance": [],
      "authorship_tag": "ABX9TyP50pIxYtL4C1e5aKLvUr1B",
      "include_colab_link": true
    },
    "kernelspec": {
      "name": "python3",
      "display_name": "Python 3"
    },
    "language_info": {
      "name": "python"
    }
  },
  "cells": [
    {
      "cell_type": "markdown",
      "metadata": {
        "id": "view-in-github",
        "colab_type": "text"
      },
      "source": [
        "<a href=\"https://colab.research.google.com/github/AnabelBerumen/100DaysOfCode/blob/main/exercises/leetcode/linked_lists.ipynb\" target=\"_parent\"><img src=\"https://colab.research.google.com/assets/colab-badge.svg\" alt=\"Open In Colab\"/></a>"
      ]
    },
    {
      "cell_type": "markdown",
      "source": [
        "## 146. LRU Cache"
      ],
      "metadata": {
        "id": "X2lGJSR1Z-_p"
      }
    },
    {
      "cell_type": "markdown",
      "source": [
        "Design a data structure that follows the constraints of a Least Recently Used (LRU) cache.\n",
        "\n"
      ],
      "metadata": {
        "id": "4gwr7Mh7I4X6"
      }
    },
    {
      "cell_type": "code",
      "execution_count": 4,
      "metadata": {
        "colab": {
          "base_uri": "https://localhost:8080/"
        },
        "id": "59rlY4DKIXbt",
        "outputId": "93d306fc-eef4-4dbc-a6c2-f064183f5fc4"
      },
      "outputs": [
        {
          "output_type": "stream",
          "name": "stdout",
          "text": [
            " GET 1\n",
            " GET -1\n",
            " GET -1\n",
            " GET 3\n",
            " GET 4\n"
          ]
        }
      ],
      "source": [
        "class Node:\n",
        "    def __init__(self, key, val):\n",
        "        self.key, self.val = key, val\n",
        "        self.prev = self.next = None\n",
        "\n",
        "\n",
        "class LRUCache:\n",
        "    def __init__(self, capacity: int):\n",
        "        self.cap = capacity\n",
        "        self.cache = {}  # map key to node\n",
        "\n",
        "        self.left, self.right = Node(0, 0), Node(0, 0)\n",
        "        self.left.next, self.right.prev = self.right, self.left\n",
        "\n",
        "    # remove node from list\n",
        "    def remove(self, node):\n",
        "        prev, nxt = node.prev, node.next\n",
        "        prev.next, nxt.prev = nxt, prev\n",
        "\n",
        "    # insert node at right\n",
        "    def insert(self, node):\n",
        "        prev, nxt = self.right.prev, self.right\n",
        "        prev.next = nxt.prev = node\n",
        "        node.next, node.prev = nxt, prev\n",
        "\n",
        "    def get(self, key: int) -> int:\n",
        "        if key in self.cache:\n",
        "            self.remove(self.cache[key])\n",
        "            self.insert(self.cache[key])\n",
        "            return self.cache[key].val\n",
        "        return -1\n",
        "\n",
        "    def put(self, key: int, value: int) -> None:\n",
        "        if key in self.cache:\n",
        "            self.remove(self.cache[key])\n",
        "        self.cache[key] = Node(key, value)\n",
        "        self.insert(self.cache[key])\n",
        "\n",
        "        if len(self.cache) > self.cap:\n",
        "            # remove from the list and delete the LRU from hashmap\n",
        "            lru = self.left.next\n",
        "            self.remove(lru)\n",
        "            del self.cache[lru.key]\n",
        "\n",
        "#[\"LRUCache\",\"put\",\"put\",\"get\",\"put\",\"get\",\"put\",\"get\",\"get\",\"get\"]\n",
        "#[[2],[1,1],[2,2],[1],[3,3],[2],[4,4],[1],[3],[4]]\n",
        "lRUCache = LRUCache(2)\n",
        "\n",
        "lRUCache.put(1, 1)# cache is {1=1}\n",
        "\n",
        "lRUCache.put(2, 2)# cache is {1=1, 2=2}\n",
        "\n",
        "print(f' GET {lRUCache.get(1)}')#  return 1\n",
        "\n",
        "lRUCache.put(3, 3)#LRU key was 2, evicts key 2, cache is {1=1, 3=3}\n",
        "\n",
        "print(f' GET {lRUCache.get(2)}')#returns -1 (not found)\n",
        "\n",
        "lRUCache.put(4, 4)# LRU key was 1, evicts key 1, cache is {4=4, 3=3}\n",
        "\n",
        "print(f' GET {lRUCache.get(1)}')# return -1 (not found)\n",
        "\n",
        "print(f' GET {lRUCache.get(3)}')# return 3\n",
        "\n",
        "print(f' GET {lRUCache.get(4)}')# return 4\n"
      ]
    },
    {
      "cell_type": "code",
      "source": [
        "class ListNode:\n",
        "    def __init__(self, key, value):\n",
        "        self.key = key\n",
        "        self.value = value\n",
        "        self.prev = None\n",
        "        self.next = None\n",
        "\n",
        "class LRUCache:\n",
        "\n",
        "    def __init__(self, capacity):\n",
        "        self.dic = dict() # key to node\n",
        "        self.capacity = capacity\n",
        "        self.head = ListNode(0, 0)\n",
        "        self.tail = ListNode(-1, -1)\n",
        "        self.head.next = self.tail\n",
        "        self.tail.prev = self.head\n",
        "\n",
        "    def get(self, key):\n",
        "        if key in self.dic:\n",
        "            node = self.dic[key]\n",
        "            self.removeFromList(node)\n",
        "            self.insertIntoHead(node)\n",
        "            return node.value\n",
        "        else:\n",
        "            return -1\n",
        "\n",
        "    def put(self, key, value):\n",
        "        if key in self.dic:             # similar to get()        \n",
        "            node = self.dic[key]\n",
        "            self.removeFromList(node)\n",
        "            self.insertIntoHead(node)\n",
        "            node.value = value         # replace the value len(dic)\n",
        "        else: \n",
        "            if len(self.dic) >= self.capacity:\n",
        "                self.removeFromTail()\n",
        "            node = ListNode(key,value)\n",
        "            self.dic[key] = node\n",
        "            self.insertIntoHead(node)\n",
        "\t\t\t\n",
        "    def removeFromList(self, node):\n",
        "        node.prev.next = node.next\n",
        "        node.next.prev = node.prev\n",
        "    \n",
        "    def insertIntoHead(self, node):\n",
        "        headNext = self.head.next \n",
        "        self.head.next = node \n",
        "        node.prev = self.head \n",
        "        node.next = headNext \n",
        "        headNext.prev = node\n",
        "    \n",
        "    def removeFromTail(self):\n",
        "        if len(self.dic) == 0: return\n",
        "        tail_node = self.tail.prev\n",
        "        del self.dic[tail_node.key]\n",
        "        self.removeFromList(tail_node)\n",
        "\n",
        "lRUCache = LRUCache(2)\n",
        "\n",
        "lRUCache.put(1, 1)# cache is {1=1}\n",
        "\n",
        "lRUCache.put(2, 2)# cache is {1=1, 2=2}\n",
        "\n",
        "print(f' GET {lRUCache.get(1)}')#  return 1\n",
        "\n",
        "lRUCache.put(3, 3)#LRU key was 2, evicts key 2, cache is {1=1, 3=3}\n",
        "\n",
        "print(f' GET {lRUCache.get(2)}')#returns -1 (not found)\n",
        "\n",
        "lRUCache.put(4, 4)# LRU key was 1, evicts key 1, cache is {4=4, 3=3}\n",
        "\n",
        "print(f' GET {lRUCache.get(1)}')# return -1 (not found)\n",
        "\n",
        "print(f' GET {lRUCache.get(3)}')# return 3\n",
        "\n",
        "print(f' GET {lRUCache.get(4)}')# return 4"
      ],
      "metadata": {
        "colab": {
          "base_uri": "https://localhost:8080/"
        },
        "id": "C5K0EUJnZmjM",
        "outputId": "3b65df2e-f611-4cf7-c1ad-e0c74fe54c3a"
      },
      "execution_count": 5,
      "outputs": [
        {
          "output_type": "stream",
          "name": "stdout",
          "text": [
            " GET 1\n",
            " GET -1\n",
            " GET -1\n",
            " GET 3\n",
            " GET 4\n"
          ]
        }
      ]
    },
    {
      "cell_type": "code",
      "source": [],
      "metadata": {
        "id": "CkpmF7_xbQrX"
      },
      "execution_count": null,
      "outputs": []
    }
  ]
}