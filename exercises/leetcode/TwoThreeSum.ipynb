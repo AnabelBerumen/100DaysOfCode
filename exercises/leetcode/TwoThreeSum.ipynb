{
  "nbformat": 4,
  "nbformat_minor": 0,
  "metadata": {
    "colab": {
      "provenance": [],
      "include_colab_link": true
    },
    "kernelspec": {
      "name": "python3",
      "display_name": "Python 3"
    }
  },
  "cells": [
    {
      "cell_type": "markdown",
      "metadata": {
        "id": "view-in-github",
        "colab_type": "text"
      },
      "source": [
        "<a href=\"https://colab.research.google.com/github/AnabelBerumen/100DaysOfCode/blob/main/exercises/leetcode/TwoThreeSum.ipynb\" target=\"_parent\"><img src=\"https://colab.research.google.com/assets/colab-badge.svg\" alt=\"Open In Colab\"/></a>"
      ]
    },
    {
      "cell_type": "code",
      "metadata": {
        "id": "BgA0YfPyCzZG",
        "colab": {
          "base_uri": "https://localhost:8080/"
        },
        "outputId": "4f0e49ba-0d22-42f0-b53b-5e02aa3f0ccb"
      },
      "source": [
        "# Given list is [2,3,6,6,5]. The maximum score is 6, second maximum is 5. Hence, we print  as the runner-up score.\n",
        "\n",
        "n = int(input()) # 5\n",
        "arr = map(int, input().split()) # 2 3 4 6 6 5 \n",
        "    \n",
        "arr1 = list(set(arr))\n",
        "arr1.sort()\n",
        "max1 = arr1[-2]\n",
        "    \n",
        "print(max1) # 5"
      ],
      "execution_count": null,
      "outputs": [
        {
          "output_type": "stream",
          "name": "stdout",
          "text": [
            "5\n",
            "2 3 4 6 6 5 \n",
            "5\n"
          ]
        }
      ]
    },
    {
      "cell_type": "markdown",
      "source": [
        "### Two Sums"
      ],
      "metadata": {
        "id": "11i6slAqBEdO"
      }
    },
    {
      "cell_type": "markdown",
      "source": [
        "#### Complexity Analysis\n",
        "\n",
        "Time complexity: O(n^2)O(n \n",
        "2\n",
        " ). For each element, we try to find its complement by looping through the rest of the array which takes O(n)O(n) time. Therefore, the time complexity is O(n^2)O(n \n",
        "2\n",
        " ).\n",
        "\n",
        "Space complexity: O(1)O(1). The space required does not depend on the size of the input array, so only constant space is used."
      ],
      "metadata": {
        "id": "xAISH8S0BG7x"
      }
    },
    {
      "cell_type": "code",
      "source": [
        "def twoSum(nums, target):\n",
        "        for i in range(len(nums)):\n",
        "            for j in range(i + 1, len(nums)):\n",
        "                if nums[j] == target - nums[i]:\n",
        "                    return [i, j]\n",
        "\n",
        "\n",
        "nums = [2, 7, 11, 15]\n",
        "target = 9\n",
        "\n",
        "print(twoSum(nums, target))\n"
      ],
      "metadata": {
        "id": "8i0M5yOruwpA",
        "colab": {
          "base_uri": "https://localhost:8080/"
        },
        "outputId": "9670b8b0-6235-464b-ce37-b7290d5b68db"
      },
      "execution_count": null,
      "outputs": [
        {
          "output_type": "stream",
          "name": "stdout",
          "text": [
            "[0, 1]\n"
          ]
        }
      ]
    },
    {
      "cell_type": "code",
      "source": [
        "#sums = [3,2,4]\n",
        "#target = 6\n",
        "def twosum(nums=(6, 7, 11, 15, 3, 6, 5, 3), target=6):\n",
        "\n",
        "    lookup = dict(((v, i) for i, v in enumerate(nums)))\n",
        "    \n",
        "    return next(( (i+1, lookup.get(target-v)+1) \n",
        "            for i, v in enumerate(nums) \n",
        "                if lookup.get(target-v, i) != i), None)\n",
        "    \n",
        "\n",
        "print(twosum())"
      ],
      "metadata": {
        "colab": {
          "base_uri": "https://localhost:8080/"
        },
        "id": "GGJz499O7n00",
        "outputId": "58633dc9-4909-46c5-c7c6-eef82f69251b"
      },
      "execution_count": null,
      "outputs": [
        {
          "output_type": "stream",
          "name": "stdout",
          "text": [
            "(5, 8)\n"
          ]
        }
      ]
    },
    {
      "cell_type": "code",
      "source": [
        "\n",
        "def twosum( nums, target):\n",
        "  lookup = {}\n",
        "  print(type(lookup))\n",
        "  for cnt, num in enumerate(nums):\n",
        "      if target - num in lookup:\n",
        "          return lookup[target-num], cnt\n",
        "      lookup[num] = cnt \n",
        "\n",
        "#nums = [3,2,4]\n",
        "#target = 6\n",
        "\n",
        "nums = [2, 7, 11, 15]\n",
        "target = 9\n",
        "\n",
        "print(twosum(nums, target))"
      ],
      "metadata": {
        "colab": {
          "base_uri": "https://localhost:8080/"
        },
        "id": "kH0fR1gZ9Jb1",
        "outputId": "6180ef03-7800-4d1b-fa16-bcc6e2f29478"
      },
      "execution_count": null,
      "outputs": [
        {
          "output_type": "stream",
          "name": "stdout",
          "text": [
            "<class 'dict'>\n",
            "(0, 1)\n"
          ]
        }
      ]
    },
    {
      "cell_type": "code",
      "source": [
        "def twoSum(nums, target):\n",
        "  prevMap = {}\n",
        "\n",
        "  for i, n in enumerate(nums):\n",
        "    diff = target - n\n",
        "\n",
        "    if diff in prevMap:\n",
        "      return [prevMap[diff], i]\n",
        "    prevMap[n] = i\n",
        "  return\n",
        "\n",
        "nums = [3, 7, 11, 15]\n",
        "target = 10\n",
        "print(twoSum(nums, target))"
      ],
      "metadata": {
        "colab": {
          "base_uri": "https://localhost:8080/"
        },
        "id": "KsVAfYay_lJv",
        "outputId": "6567b7f0-8ac0-4d69-f816-ed16df1c43db"
      },
      "execution_count": null,
      "outputs": [
        {
          "output_type": "stream",
          "name": "stdout",
          "text": [
            "[0, 1]\n"
          ]
        }
      ]
    },
    {
      "cell_type": "markdown",
      "source": [
        "## Two Sums II\n",
        "* given an arr of ints that is sorted in ascending order"
      ],
      "metadata": {
        "id": "0UQ2XKOV02vi"
      }
    },
    {
      "cell_type": "code",
      "source": [
        "def twoSum(nums, target):\n",
        "  left, right = 0, len(nums) -1\n",
        "\n",
        "  while left < right:\n",
        "    curSum = nums[left] + nums[right]\n",
        "\n",
        "    if curSum > target:\n",
        "      right -= 1\n",
        "    elif curSum < target:\n",
        "      left += 1\n",
        "    \n",
        "    else:\n",
        "      return [left +1, right +1]\n",
        "  return[]\n",
        "\n",
        "nums = [3, 7, 11, 15]\n",
        "target = 10\n",
        "print(twoSum(nums, target))"
      ],
      "metadata": {
        "colab": {
          "base_uri": "https://localhost:8080/"
        },
        "id": "yL2pIwuztlIA",
        "outputId": "d47b23ed-1aab-42cf-a674-4850d6a96f86"
      },
      "execution_count": null,
      "outputs": [
        {
          "output_type": "stream",
          "name": "stdout",
          "text": [
            "[1, 2]\n"
          ]
        }
      ]
    },
    {
      "cell_type": "markdown",
      "source": [
        "## 3 SUM\n",
        "* arr of ints\n",
        "* 3 elements a, b, c in arr = 0"
      ],
      "metadata": {
        "id": "Vn8YFyZ04aer"
      }
    },
    {
      "cell_type": "code",
      "source": [
        "def threeSum(nums):\n",
        "  res = []\n",
        "  nums.sort()\n",
        "\n",
        "  for i, a in enumerate(nums):\n",
        "    if i>0 and a == nums[i -1]:\n",
        "      continue\n",
        "\n",
        "    l, r = i+1,  len(nums) -1\n",
        "    while l < r:\n",
        "      threeSum = a + nums[l] + nums[r]\n",
        "\n",
        "      if threeSum > 0:\n",
        "        r -= 1\n",
        "      elif threeSum < 0:\n",
        "        l += 1\n",
        "      else:\n",
        "        res.append([a, nums[l], nums[r]])\n",
        "        l += 1\n",
        "        while nums[l] == nums[l-1] and l < r:\n",
        "          l += 1\n",
        "  return res\n",
        "\n",
        "nums = [-1, 0, 1, 2, -1, -4]\n",
        "print(threeSum(nums))"
      ],
      "metadata": {
        "colab": {
          "base_uri": "https://localhost:8080/"
        },
        "id": "aMykOcNQwlTl",
        "outputId": "e159f64f-5a72-45ed-e5e1-64f76904bad9"
      },
      "execution_count": null,
      "outputs": [
        {
          "output_type": "stream",
          "name": "stdout",
          "text": [
            "[[-1, -1, 2], [-1, 0, 1]]\n"
          ]
        }
      ]
    },
    {
      "cell_type": "code",
      "source": [],
      "metadata": {
        "colab": {
          "base_uri": "https://localhost:8080/"
        },
        "id": "diiq724K3Bcp",
        "outputId": "1e4c12da-6215-4b90-f547-507465f2a07b"
      },
      "execution_count": null,
      "outputs": [
        {
          "output_type": "stream",
          "name": "stdout",
          "text": [
            "[[-1, -1, 2], [-1, 0, 1]]\n"
          ]
        }
      ]
    },
    {
      "cell_type": "code",
      "source": [],
      "metadata": {
        "id": "nRHz8eo7aRr5"
      },
      "execution_count": null,
      "outputs": []
    }
  ]
}