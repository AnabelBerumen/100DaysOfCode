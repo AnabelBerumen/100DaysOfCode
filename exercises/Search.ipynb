{
  "nbformat": 4,
  "nbformat_minor": 0,
  "metadata": {
    "colab": {
      "provenance": [],
      "authorship_tag": "ABX9TyMZXgULpzP59Iqu31DHLOIt",
      "include_colab_link": true
    },
    "kernelspec": {
      "name": "python3",
      "display_name": "Python 3"
    },
    "language_info": {
      "name": "python"
    }
  },
  "cells": [
    {
      "cell_type": "markdown",
      "metadata": {
        "id": "view-in-github",
        "colab_type": "text"
      },
      "source": [
        "<a href=\"https://colab.research.google.com/github/AnabelBerumen/100DaysOfCode/blob/main/exercises/Search.ipynb\" target=\"_parent\"><img src=\"https://colab.research.google.com/assets/colab-badge.svg\" alt=\"Open In Colab\"/></a>"
      ]
    },
    {
      "cell_type": "markdown",
      "source": [
        "## Linear Search"
      ],
      "metadata": {
        "id": "O3hiUzi3cbZC"
      }
    },
    {
      "cell_type": "code",
      "source": [
        "def search(nums, target):\n",
        "        \n",
        "      for i in range(len(nums)):\n",
        "            \n",
        "          if nums[i] == target:\n",
        "                \n",
        "              return i\n",
        "        \n",
        "      return -1\n",
        "\n",
        "nums = [3,5,7,8,9]\n",
        "target = 8\n",
        "\n",
        "print(search(nums, target))        "
      ],
      "metadata": {
        "colab": {
          "base_uri": "https://localhost:8080/"
        },
        "id": "z3vwfETtcetA",
        "outputId": "e38f31e5-a1d9-4cb9-f054-df211e6eb9a5"
      },
      "execution_count": null,
      "outputs": [
        {
          "output_type": "stream",
          "name": "stdout",
          "text": [
            "3\n"
          ]
        }
      ]
    },
    {
      "cell_type": "markdown",
      "source": [
        "## Binary Search"
      ],
      "metadata": {
        "id": "BOfZvXgGaSLp"
      }
    },
    {
      "cell_type": "code",
      "execution_count": null,
      "metadata": {
        "colab": {
          "base_uri": "https://localhost:8080/"
        },
        "id": "7yi4DWGjaLjZ",
        "outputId": "621fa07d-bd09-4d8c-890c-a3c8b8527329"
      },
      "outputs": [
        {
          "output_type": "stream",
          "name": "stdout",
          "text": [
            "1\n"
          ]
        }
      ],
      "source": [
        "def binarySearch(nums, target):\n",
        "\n",
        "    if len(nums) == 0:\n",
        "        return -1\n",
        "\n",
        "    left, right = 0, len(nums) - 1\n",
        "    \n",
        "    while left <= right:\n",
        "        mid = (left + right) // 2\n",
        "\n",
        "        if nums[mid] == target:\n",
        "            return mid\n",
        "\n",
        "        elif nums[mid] < target:\n",
        "            left = mid + 1\n",
        "            \n",
        "        else:\n",
        "            right = mid - 1\n",
        "\n",
        "    # End Condition: left > right\n",
        "    return -1\n",
        "\n",
        "nums = [3,5,7,8,9]\n",
        "target = 5\n",
        "\n",
        "print(binarySearch(nums, target))"
      ]
    },
    {
      "cell_type": "code",
      "source": [
        "def mainbinarySearch(lista, num):\n",
        "    min = 0\n",
        "    max = len(lista) - 1\n",
        "\n",
        "    while min <= max:\n",
        "        mid = int((min + max) / 2)\n",
        "        search = lista[mid]\n",
        "\n",
        "        if num == search:\n",
        "            return mid\n",
        "\n",
        "        elif search > num:\n",
        "            max = mid - 1\n",
        "            \n",
        "        else:\n",
        "            min = mid + 1\n",
        "\n",
        "    return None\n",
        "\n",
        "nums = [3,5,7,8,9]\n",
        "target = 5\n",
        "\n",
        "print(binarySearch(nums, target))"
      ],
      "metadata": {
        "colab": {
          "base_uri": "https://localhost:8080/"
        },
        "id": "Nv0c4DXGb3OW",
        "outputId": "bb9c2fe4-8725-4537-e90a-edc0f2f97615"
      },
      "execution_count": null,
      "outputs": [
        {
          "output_type": "stream",
          "name": "stdout",
          "text": [
            "1\n"
          ]
        }
      ]
    },
    {
      "cell_type": "markdown",
      "source": [],
      "metadata": {
        "id": "HZMlNoS4aVPX"
      }
    },
    {
      "cell_type": "code",
      "source": [
        "def checkIfExist(arr):\n",
        "  \n",
        "  for c, v in enumerate(arr):\n",
        "      if arr[v] \n",
        "\n",
        "\n",
        "\n",
        "\n",
        "arr = [10,2,5,3]\n",
        "print(checkIfExist(arr))"
      ],
      "metadata": {
        "id": "JekOkUU2jrW6"
      },
      "execution_count": null,
      "outputs": []
    }
  ]
}